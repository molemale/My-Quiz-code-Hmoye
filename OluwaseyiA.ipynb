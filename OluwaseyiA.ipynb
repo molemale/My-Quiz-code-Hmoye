{
  "nbformat": 4,
  "nbformat_minor": 0,
  "metadata": {
    "colab": {
      "name": "OluwaseyiA.ipynb",
      "provenance": [],
      "collapsed_sections": [],
      "authorship_tag": "ABX9TyOCK/bTZQWRREFS9y2iTtje",
      "include_colab_link": true
    },
    "kernelspec": {
      "name": "python3",
      "display_name": "Python 3"
    }
  },
  "cells": [
    {
      "cell_type": "markdown",
      "metadata": {
        "id": "view-in-github",
        "colab_type": "text"
      },
      "source": [
        "<a href=\"https://colab.research.google.com/github/molemale/My-Quiz-code-Hmoye/blob/master/OluwaseyiA.ipynb\" target=\"_parent\"><img src=\"https://colab.research.google.com/assets/colab-badge.svg\" alt=\"Open In Colab\"/></a>"
      ]
    },
    {
      "cell_type": "code",
      "metadata": {
        "id": "AvJNIMXMIuNT",
        "colab_type": "code",
        "colab": {}
      },
      "source": [
        "#importing libraries\n",
        "\n",
        "import pandas as pd\n",
        "import numpy as np\n",
        "import matplotlib.pyplot as plt\n",
        "import seaborn as sns\n",
        "import pandas.util.testing as tm \n",
        "\n",
        "#importing data set\n",
        "public_utility_data_df= pd.read_csv(\"https://raw.githubusercontent.com/WalePhenomenon/climate_change/master/fuel_ferc1.csv\")\n",
        "# to get the mean\n",
        "public_utility_data_df.describe(include='all')"
      ],
      "execution_count": null,
      "outputs": []
    },
    {
      "cell_type": "code",
      "metadata": {
        "id": "vI71eBi_Umhx",
        "colab_type": "code",
        "colab": {}
      },
      "source": [
        "public_utility_data_df.isnull().sum() "
      ],
      "execution_count": null,
      "outputs": []
    },
    {
      "cell_type": "code",
      "metadata": {
        "id": "irEkGXRsUvHL",
        "colab_type": "code",
        "colab": {}
      },
      "source": [
        "public_utility_data_df[\"fuel_unit\"].isnull().sum()"
      ],
      "execution_count": null,
      "outputs": []
    },
    {
      "cell_type": "code",
      "metadata": {
        "id": "gHs-L5BLU2Qv",
        "colab_type": "code",
        "colab": {}
      },
      "source": [
        "public_utility_data_df.groupby('fuel_unit')['fuel_unit'].count()"
      ],
      "execution_count": null,
      "outputs": []
    },
    {
      "cell_type": "code",
      "metadata": {
        "id": "lNVj9PufU5Yd",
        "colab_type": "code",
        "colab": {}
      },
      "source": [
        "public_utility_data_df.groupby('report_year')['report_year'].count()"
      ],
      "execution_count": null,
      "outputs": []
    },
    {
      "cell_type": "code",
      "metadata": {
        "id": "eb2qk4cSVVGQ",
        "colab_type": "code",
        "colab": {}
      },
      "source": [
        "public_utility_data_df.groupby('fuel_type_code_pudl').last() #first() # group by the type of energy source"
      ],
      "execution_count": null,
      "outputs": []
    },
    {
      "cell_type": "code",
      "metadata": {
        "id": "bvjv6Kq5Vkik",
        "colab_type": "code",
        "colab": {}
      },
      "source": [
        "public_utility_data_df1 = public_utility_data_df.iloc[0:19000].reset_index(drop=True)\n",
        "public_utility_data_df2 = public_utility_data_df.iloc[19000:].reset_index(drop=True)"
      ],
      "execution_count": 10,
      "outputs": []
    },
    {
      "cell_type": "code",
      "metadata": {
        "id": "vb0aev7hWVc5",
        "colab_type": "code",
        "colab": {}
      },
      "source": [
        "assert len(public_utility_data_df) == (len(public_utility_data_df1) + len(public_utility_data_df2))"
      ],
      "execution_count": 11,
      "outputs": []
    },
    {
      "cell_type": "code",
      "metadata": {
        "id": "JCw-CEgL4M6r",
        "colab_type": "code",
        "colab": {}
      },
      "source": [
        "pd.merge(public_utility_data_df1, public_utility_data_df2, how=\"inner\") #for inner merge"
      ],
      "execution_count": null,
      "outputs": []
    },
    {
      "cell_type": "code",
      "metadata": {
        "id": "yHtrZaJm4Wxx",
        "colab_type": "code",
        "colab": {}
      },
      "source": [
        "pd.merge(public_utility_data_df1, public_utility_data_df2, how=\"outer\") # for outer merge"
      ],
      "execution_count": 13,
      "outputs": []
    },
    {
      "cell_type": "code",
      "metadata": {
        "id": "urhzLYpb4wMP",
        "colab_type": "code",
        "colab": {}
      },
      "source": [
        "pd.merge(public_utility_data_df1, public_utility_data_df2, how=\"left\")#removing unmatched role from the right but keep all rows from the left"
      ],
      "execution_count": null,
      "outputs": []
    },
    {
      "cell_type": "code",
      "metadata": {
        "id": "_oAqC51W5Jdn",
        "colab_type": "code",
        "colab": {}
      },
      "source": [
        "data_to_concat = pd.DataFrame(np.zeros(public_utility_data_df.shape)) #concat() function by combining series or dataframes \n",
        "# keeping the indices of the individual unit irrespective of duplicate indices\n",
        "pd.concat([public_utility_data_df, data_to_concat]).reset_index(drop=True) "
      ],
      "execution_count": null,
      "outputs": []
    },
    {
      "cell_type": "code",
      "metadata": {
        "id": "dJOpOBGA5lYJ",
        "colab_type": "code",
        "colab": {}
      },
      "source": [
        "public_utility_data_df.duplicated().any() # removing duplicated data from the frame"
      ],
      "execution_count": null,
      "outputs": []
    },
    {
      "cell_type": "code",
      "metadata": {
        "id": "LiGYKHnW6MRV",
        "colab_type": "code",
        "colab": {}
      },
      "source": [
        "import pandas as pd\n",
        "import numpy as np\n",
        "import matplotlib.pyplot as plt\n",
        "import seaborn as sns\n",
        "import pandas.util.testing as tm\n",
        "\n",
        "plt.figure(figsize=(7,4))\n",
        "plt.xticks(rotation=90)\n",
        "public_utility_data_df = pd.DataFrame({'unit':['BBL', 'GAL', 'GRAMSU', 'KGU', 'MCF', 'MMBTU', 'MWDTH', 'MWHTH', 'TON'],\n",
        "            'count':[7998, 84, 464, 110, 11354, 180, 95, 100, 8958]})\n",
        "sns.barplot(data=public_utility_data_df, x='unit', y='count')\n",
        "plt.xlabel('public_utility_data_df')\n",
        "g = sns.barplot(data=public_utility_data_df, x='unit', y='count')\n",
        "g.set_yscale(\"log\")\n",
        "g.set_ylim(1, 12000)\n",
        "plt.xlabel('Fuel Unit')"
      ],
      "execution_count": null,
      "outputs": []
    },
    {
      "cell_type": "code",
      "metadata": {
        "id": "gjL9ZuIbP45V",
        "colab_type": "code",
        "colab": {}
      },
      "source": [
        "# Import plotting library\n",
        "import matplotlib.pyplot as plt\n",
        "import seaborn as sns\n",
        "\n",
        "plt.figure(figsize=(7,4))\n",
        "plt.xticks(rotation=90)\n",
        "fuel_unit = pd.DataFrame({'unit':['BBL', 'GAL', 'GRAMSU', 'KGU', 'MCF', 'MMBTU', 'MWDTH', 'MWHTH', 'TON'],\n",
        "            'count':[7998, 84, 464, 110, 11354, 180, 95, 100, 8958]})\n",
        "sns.barplot(data=fuel_unit, x='unit', y='count')\n",
        "plt.xlabel('Fuel Unit')\n",
        "\n",
        "g = sns.barplot(data=fuel_unit, x='unit', y='count')\n",
        "g.set_yscale(\"log\")\n",
        "g.set_ylim(1, 12000)\n",
        "plt.xlabel('Fuel Unit')"
      ],
      "execution_count": null,
      "outputs": []
    },
    {
      "cell_type": "code",
      "metadata": {
        "id": "gyc8xOBwQY_r",
        "colab_type": "code",
        "colab": {
          "base_uri": "https://localhost:8080/",
          "height": 297
        },
        "outputId": "662ac48d-91c9-4318-a596-259f9b1ca95f"
      },
      "source": [
        "import pandas as pd\n",
        "import numpy as np\n",
        "import matplotlib.pyplot as plt\n",
        "import seaborn as sns\n",
        "import pandas.util.testing as tm\n",
        "public_utility_data_df= pd.read_csv(\"https://raw.githubusercontent.com/WalePhenomenon/climate_change/master/fuel_ferc1.csv\")\n",
        "# Box plot\n",
        "sns.boxplot(x=\"fuel_type_code_pudl\", y=\"utility_id_ferc1\",\n",
        "            palette=[\"m\", \"g\"], data=public_utility_data_df)"
      ],
      "execution_count": 19,
      "outputs": [
        {
          "output_type": "execute_result",
          "data": {
            "text/plain": [
              "<matplotlib.axes._subplots.AxesSubplot at 0x7fa7c61bf400>"
            ]
          },
          "metadata": {
            "tags": []
          },
          "execution_count": 19
        },
        {
          "output_type": "display_data",
          "data": {
            "image/png": "[encoded data removed]",
            "text/plain": [
              "<Figure size 432x288 with 1 Axes>"
            ]
          },
          "metadata": {
            "tags": [],
            "needs_background": "light"
          }
        }
      ]
    },
    {
      "cell_type": "code",
      "metadata": {
        "id": "cqDtln0i9KCn",
        "colab_type": "code",
        "colab": {}
      },
      "source": [
        "import matplotlib.pyplot as plt\n",
        "import seaborn as sns\n",
        "sns.boxplot(x=\"fuel_type_code_pud1\", y=\"utility_id_ferc1\",\n",
        "            palette=[\"m\", \"g\"], data=public_utility_data_df)"
      ],
      "execution_count": null,
      "outputs": []
    },
    {
      "cell_type": "code",
      "metadata": {
        "id": "MGf4Ot0hPi_i",
        "colab_type": "code",
        "colab": {
          "base_uri": "https://localhost:8080/",
          "height": 282
        },
        "outputId": "8a5d5f30-d37f-4231-c11a-ee06415c5b9d"
      },
      "source": [
        "# Select a sample of the dataset\n",
        "sample_df = public_utility_data_df.sample(n=20, random_state=4) # i had to change the no of sample from 20; for distribution\n",
        "\n",
        "# KDE plot \n",
        "sns.kdeplot(sample_df['fuel_cost_per_unit_burned'], shade=True, color=\"b\") #color code in py"
      ],
      "execution_count": 22,
      "outputs": [
        {
          "output_type": "execute_result",
          "data": {
            "text/plain": [
              "<matplotlib.axes._subplots.AxesSubplot at 0x7fa7c711a710>"
            ]
          },
          "metadata": {
            "tags": []
          },
          "execution_count": 22
        },
        {
          "output_type": "display_data",
          "data": {
            "image/png": "[encoded data removed]",
            "text/plain": [
              "<Figure size 432x288 with 1 Axes>"
            ]
          },
          "metadata": {
            "tags": [],
            "needs_background": "light"
          }
        }
      ]
    },
    {
      "cell_type": "code",
      "metadata": {
        "id": "ntAF7V5Rrxn-",
        "colab_type": "code",
        "colab": {}
      },
      "source": [
        "#SCATTER PLOT\n",
        "sns.regplot(x=sample_df[\"utility_id_ferc1\"], y=sample_df[\"fuel_cost_per_mmbtu\"], fit_reg=False)\n",
        "#my scatter diagram is differenet i change the number of my sample size"
      ],
      "execution_count": null,
      "outputs": []
    },
    {
      "cell_type": "code",
      "metadata": {
        "id": "ql28B33ct5Dh",
        "colab_type": "code",
        "colab": {}
      },
      "source": [
        "sns.heatmap(sample_df.corr())\n",
        "#i made a heatmap based on the level of correlation between the columns in the sample dataframe and one can see that fuel_cost_per_mmbtu\n",
        "#is highly correlated with fuel_cost_per_unit deliver with a corellation above 0.8"
      ],
      "execution_count": null,
      "outputs": []
    }
  ]
}